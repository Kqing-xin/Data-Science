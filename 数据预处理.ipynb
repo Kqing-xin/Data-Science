{
 "cells": [
  {
   "cell_type": "code",
   "execution_count": 1,
   "id": "51acb92a",
   "metadata": {},
   "outputs": [],
   "source": [
    "import pandas as pd\n",
    "import numpy as np"
   ]
  },
  {
   "cell_type": "markdown",
   "id": "453a3966",
   "metadata": {},
   "source": [
    "## 数据初探"
   ]
  },
  {
   "cell_type": "markdown",
   "id": "f7c7904c",
   "metadata": {},
   "source": [
    "### 导入数据"
   ]
  },
  {
   "cell_type": "code",
   "execution_count": 39,
   "id": "2f4cba7d",
   "metadata": {},
   "outputs": [
    {
     "data": {
      "text/html": [
       "<div>\n",
       "<style scoped>\n",
       "    .dataframe tbody tr th:only-of-type {\n",
       "        vertical-align: middle;\n",
       "    }\n",
       "\n",
       "    .dataframe tbody tr th {\n",
       "        vertical-align: top;\n",
       "    }\n",
       "\n",
       "    .dataframe thead th {\n",
       "        text-align: right;\n",
       "    }\n",
       "</style>\n",
       "<table border=\"1\" class=\"dataframe\">\n",
       "  <thead>\n",
       "    <tr style=\"text-align: right;\">\n",
       "      <th></th>\n",
       "      <th>first_category</th>\n",
       "      <th>second_category</th>\n",
       "      <th>third_category</th>\n",
       "      <th>brand</th>\n",
       "      <th>price</th>\n",
       "      <th>good_percent</th>\n",
       "      <th>user_name</th>\n",
       "      <th>plus</th>\n",
       "      <th>star</th>\n",
       "      <th>content</th>\n",
       "      <th>...</th>\n",
       "      <th>Unnamed: 15</th>\n",
       "      <th>Unnamed: 16</th>\n",
       "      <th>Unnamed: 17</th>\n",
       "      <th>Unnamed: 18</th>\n",
       "      <th>Unnamed: 19</th>\n",
       "      <th>Unnamed: 20</th>\n",
       "      <th>Unnamed: 21</th>\n",
       "      <th>Unnamed: 22</th>\n",
       "      <th>Unnamed: 23</th>\n",
       "      <th>Unnamed: 24</th>\n",
       "    </tr>\n",
       "  </thead>\n",
       "  <tbody>\n",
       "    <tr>\n",
       "      <th>0</th>\n",
       "      <td>服饰内衣</td>\n",
       "      <td>女装</td>\n",
       "      <td>连衣裙</td>\n",
       "      <td>皮尔卡丹（pierre cardin）</td>\n",
       "      <td>￥ 158.00</td>\n",
       "      <td>97%</td>\n",
       "      <td>****G</td>\n",
       "      <td>False</td>\n",
       "      <td>comment-star star5</td>\n",
       "      <td>很好看的连衣裙，质量非常的好，穿起来很暖和。衣服尺码刚好合适。穿起来还挺显瘦的，朋友都说好看。</td>\n",
       "      <td>...</td>\n",
       "      <td>NaN</td>\n",
       "      <td>NaN</td>\n",
       "      <td>NaN</td>\n",
       "      <td>NaN</td>\n",
       "      <td>NaN</td>\n",
       "      <td>NaN</td>\n",
       "      <td>NaN</td>\n",
       "      <td>NaN</td>\n",
       "      <td>NaN</td>\n",
       "      <td>NaN</td>\n",
       "    </tr>\n",
       "    <tr>\n",
       "      <th>1</th>\n",
       "      <td>服饰内衣</td>\n",
       "      <td>女装</td>\n",
       "      <td>连衣裙</td>\n",
       "      <td>皮尔卡丹（pierre cardin）</td>\n",
       "      <td>￥ 158.00</td>\n",
       "      <td>97%</td>\n",
       "      <td>****n</td>\n",
       "      <td>False</td>\n",
       "      <td>comment-star star5</td>\n",
       "      <td>尺码很标准，上身效果很不错，客服态度很热情，价格很实惠。</td>\n",
       "      <td>...</td>\n",
       "      <td>NaN</td>\n",
       "      <td>NaN</td>\n",
       "      <td>NaN</td>\n",
       "      <td>NaN</td>\n",
       "      <td>NaN</td>\n",
       "      <td>NaN</td>\n",
       "      <td>NaN</td>\n",
       "      <td>NaN</td>\n",
       "      <td>NaN</td>\n",
       "      <td>NaN</td>\n",
       "    </tr>\n",
       "    <tr>\n",
       "      <th>2</th>\n",
       "      <td>服饰内衣</td>\n",
       "      <td>女装</td>\n",
       "      <td>连衣裙</td>\n",
       "      <td>皮尔卡丹（pierre cardin）</td>\n",
       "      <td>￥ 158.00</td>\n",
       "      <td>97%</td>\n",
       "      <td>****g</td>\n",
       "      <td>False</td>\n",
       "      <td>comment-star star5</td>\n",
       "      <td>质量真的是很不错，很满意的，包装很用心，客服态度特别的好，值得推荐。</td>\n",
       "      <td>...</td>\n",
       "      <td>NaN</td>\n",
       "      <td>NaN</td>\n",
       "      <td>NaN</td>\n",
       "      <td>NaN</td>\n",
       "      <td>NaN</td>\n",
       "      <td>NaN</td>\n",
       "      <td>NaN</td>\n",
       "      <td>NaN</td>\n",
       "      <td>NaN</td>\n",
       "      <td>NaN</td>\n",
       "    </tr>\n",
       "    <tr>\n",
       "      <th>3</th>\n",
       "      <td>服饰内衣</td>\n",
       "      <td>女装</td>\n",
       "      <td>连衣裙</td>\n",
       "      <td>皮尔卡丹（pierre cardin）</td>\n",
       "      <td>￥ 158.00</td>\n",
       "      <td>97%</td>\n",
       "      <td>****C</td>\n",
       "      <td>False</td>\n",
       "      <td>comment-star star5</td>\n",
       "      <td>衣服收到啦，套装简直是懒人福音，不用考虑搭配啦，质量很好，穿上特别显瘦，气质也很好，通勤日常...</td>\n",
       "      <td>...</td>\n",
       "      <td>NaN</td>\n",
       "      <td>NaN</td>\n",
       "      <td>NaN</td>\n",
       "      <td>NaN</td>\n",
       "      <td>NaN</td>\n",
       "      <td>NaN</td>\n",
       "      <td>NaN</td>\n",
       "      <td>NaN</td>\n",
       "      <td>NaN</td>\n",
       "      <td>NaN</td>\n",
       "    </tr>\n",
       "    <tr>\n",
       "      <th>4</th>\n",
       "      <td>服饰内衣</td>\n",
       "      <td>女装</td>\n",
       "      <td>连衣裙</td>\n",
       "      <td>皮尔卡丹（pierre cardin）</td>\n",
       "      <td>￥ 158.00</td>\n",
       "      <td>97%</td>\n",
       "      <td>****E</td>\n",
       "      <td>False</td>\n",
       "      <td>comment-star star5</td>\n",
       "      <td>面料很舒适，尺码大小很标准，做工很精细，客服态度也是特别的好。</td>\n",
       "      <td>...</td>\n",
       "      <td>NaN</td>\n",
       "      <td>NaN</td>\n",
       "      <td>NaN</td>\n",
       "      <td>NaN</td>\n",
       "      <td>NaN</td>\n",
       "      <td>NaN</td>\n",
       "      <td>NaN</td>\n",
       "      <td>NaN</td>\n",
       "      <td>NaN</td>\n",
       "      <td>NaN</td>\n",
       "    </tr>\n",
       "  </tbody>\n",
       "</table>\n",
       "<p>5 rows × 25 columns</p>\n",
       "</div>"
      ],
      "text/plain": [
       "  first_category second_category third_category                brand  \\\n",
       "0           服饰内衣              女装            连衣裙  皮尔卡丹（pierre cardin）   \n",
       "1           服饰内衣              女装            连衣裙  皮尔卡丹（pierre cardin）   \n",
       "2           服饰内衣              女装            连衣裙  皮尔卡丹（pierre cardin）   \n",
       "3           服饰内衣              女装            连衣裙  皮尔卡丹（pierre cardin）   \n",
       "4           服饰内衣              女装            连衣裙  皮尔卡丹（pierre cardin）   \n",
       "\n",
       "      price good_percent user_name   plus                star  \\\n",
       "0  ￥ 158.00          97%     ****G  False  comment-star star5   \n",
       "1  ￥ 158.00          97%     ****n  False  comment-star star5   \n",
       "2  ￥ 158.00          97%     ****g  False  comment-star star5   \n",
       "3  ￥ 158.00          97%     ****C  False  comment-star star5   \n",
       "4  ￥ 158.00          97%     ****E  False  comment-star star5   \n",
       "\n",
       "                                             content  ... Unnamed: 15  \\\n",
       "0    很好看的连衣裙，质量非常的好，穿起来很暖和。衣服尺码刚好合适。穿起来还挺显瘦的，朋友都说好看。  ...         NaN   \n",
       "1                       尺码很标准，上身效果很不错，客服态度很热情，价格很实惠。  ...         NaN   \n",
       "2                 质量真的是很不错，很满意的，包装很用心，客服态度特别的好，值得推荐。  ...         NaN   \n",
       "3  衣服收到啦，套装简直是懒人福音，不用考虑搭配啦，质量很好，穿上特别显瘦，气质也很好，通勤日常...  ...         NaN   \n",
       "4                    面料很舒适，尺码大小很标准，做工很精细，客服态度也是特别的好。  ...         NaN   \n",
       "\n",
       "  Unnamed: 16 Unnamed: 17  Unnamed: 18  Unnamed: 19  Unnamed: 20  Unnamed: 21  \\\n",
       "0         NaN         NaN          NaN          NaN          NaN          NaN   \n",
       "1         NaN         NaN          NaN          NaN          NaN          NaN   \n",
       "2         NaN         NaN          NaN          NaN          NaN          NaN   \n",
       "3         NaN         NaN          NaN          NaN          NaN          NaN   \n",
       "4         NaN         NaN          NaN          NaN          NaN          NaN   \n",
       "\n",
       "   Unnamed: 22  Unnamed: 23  Unnamed: 24  \n",
       "0          NaN          NaN          NaN  \n",
       "1          NaN          NaN          NaN  \n",
       "2          NaN          NaN          NaN  \n",
       "3          NaN          NaN          NaN  \n",
       "4          NaN          NaN          NaN  \n",
       "\n",
       "[5 rows x 25 columns]"
      ]
     },
     "execution_count": 39,
     "metadata": {},
     "output_type": "execute_result"
    }
   ],
   "source": [
    "df = pd.read_csv(\"详情表.csv\")\n",
    "df.head()"
   ]
  },
  {
   "cell_type": "markdown",
   "id": "15c35cc2",
   "metadata": {},
   "source": [
    "#### 对数据集有个基本印象"
   ]
  },
  {
   "cell_type": "code",
   "execution_count": 3,
   "id": "cfe25080",
   "metadata": {},
   "outputs": [
    {
     "data": {
      "text/plain": [
       "(29817, 25)"
      ]
     },
     "execution_count": 3,
     "metadata": {},
     "output_type": "execute_result"
    }
   ],
   "source": [
    "df.shape"
   ]
  },
  {
   "cell_type": "markdown",
   "id": "15317c19",
   "metadata": {},
   "source": [
    "#### 关键变量"
   ]
  },
  {
   "cell_type": "code",
   "execution_count": 4,
   "id": "df9cf0c7",
   "metadata": {},
   "outputs": [
    {
     "data": {
      "text/plain": [
       "0"
      ]
     },
     "execution_count": 4,
     "metadata": {},
     "output_type": "execute_result"
    }
   ],
   "source": [
    "# 查看我们的关键变量是否有缺失\n",
    "df['price'].isnull().sum()"
   ]
  },
  {
   "cell_type": "code",
   "execution_count": 5,
   "id": "b060ba14",
   "metadata": {},
   "outputs": [
    {
     "data": {
      "text/plain": [
       "2176"
      ]
     },
     "execution_count": 5,
     "metadata": {},
     "output_type": "execute_result"
    }
   ],
   "source": [
    "df['comment_time'].isnull().sum()"
   ]
  },
  {
   "cell_type": "markdown",
   "id": "8a961371",
   "metadata": {},
   "source": [
    "## 数据清洗"
   ]
  },
  {
   "cell_type": "markdown",
   "id": "a37a6597",
   "metadata": {},
   "source": [
    "### 缺失值处理"
   ]
  },
  {
   "cell_type": "markdown",
   "id": "abe1c12f",
   "metadata": {},
   "source": [
    "**删除空的列**"
   ]
  },
  {
   "cell_type": "code",
   "execution_count": 6,
   "id": "a91d17fb",
   "metadata": {},
   "outputs": [
    {
     "data": {
      "text/plain": [
       "(29817, 13)"
      ]
     },
     "execution_count": 6,
     "metadata": {},
     "output_type": "execute_result"
    }
   ],
   "source": [
    "df.dropna(how='all', axis='columns',inplace=True)\n",
    "df.shape"
   ]
  },
  {
   "cell_type": "markdown",
   "id": "c6c77d5a",
   "metadata": {},
   "source": [
    "**有没有一种方式，能输入一个dataframe,然后直接输出一个表格，包含变量的缺失值和缺失率呢？**"
   ]
  },
  {
   "cell_type": "code",
   "execution_count": 7,
   "id": "44137d63",
   "metadata": {},
   "outputs": [],
   "source": [
    "# Define a function to visulize the features with missing values, and % of total values, & datatype\n",
    "def missing_values_table(df):\n",
    "     # Total missing values\n",
    "    mis_val = df.isnull().sum()\n",
    "    # Percentage of missing values\n",
    "    mis_val_percent = 100 * df.isnull().sum() / len(df)\n",
    "    mis_val_type = df.dtypes\n",
    "    # Make a table with the results\n",
    "    mis_val_table = pd.concat([mis_val, mis_val_percent, mis_val_type], axis=1)\n",
    "        \n",
    "     # Rename the columns\n",
    "    mis_val_table_ren_columns = mis_val_table.rename(columns = {0 : 'Missing Values', 1 : '% of Total Values', 2: 'type'})\n",
    "        \n",
    "    # Sort the table by percentage of missing descending\n",
    "    mis_val_table_ren_columns = mis_val_table_ren_columns[ mis_val_table_ren_columns.iloc[:,1] != 0].sort_values('% of Total Values', ascending=False).round(1)\n",
    "        \n",
    "    # Print some summary information\n",
    "    print (\"你所选择的数据有 \" + str(df.shape[1]) + \" 列.\\n\" \"其中有 \" + str(mis_val_table_ren_columns.shape[0]) + \" 列的变量是有缺失值的.\")\n",
    "        \n",
    "    # Return the dataframe with missing information\n",
    "    return mis_val_table_ren_columns"
   ]
  },
  {
   "cell_type": "code",
   "execution_count": 8,
   "id": "63aefac4",
   "metadata": {
    "scrolled": true
   },
   "outputs": [
    {
     "name": "stdout",
     "output_type": "stream",
     "text": [
      "你所选择的数据有 13 列.\n",
      "其中有 2 列的变量是有缺失值的.\n"
     ]
    },
    {
     "data": {
      "text/html": [
       "<div>\n",
       "<style scoped>\n",
       "    .dataframe tbody tr th:only-of-type {\n",
       "        vertical-align: middle;\n",
       "    }\n",
       "\n",
       "    .dataframe tbody tr th {\n",
       "        vertical-align: top;\n",
       "    }\n",
       "\n",
       "    .dataframe thead th {\n",
       "        text-align: right;\n",
       "    }\n",
       "</style>\n",
       "<table border=\"1\" class=\"dataframe\">\n",
       "  <thead>\n",
       "    <tr style=\"text-align: right;\">\n",
       "      <th></th>\n",
       "      <th>Missing Values</th>\n",
       "      <th>% of Total Values</th>\n",
       "      <th>type</th>\n",
       "    </tr>\n",
       "  </thead>\n",
       "  <tbody>\n",
       "    <tr>\n",
       "      <th>size</th>\n",
       "      <td>2597</td>\n",
       "      <td>8.7</td>\n",
       "      <td>object</td>\n",
       "    </tr>\n",
       "    <tr>\n",
       "      <th>comment_time</th>\n",
       "      <td>2176</td>\n",
       "      <td>7.3</td>\n",
       "      <td>object</td>\n",
       "    </tr>\n",
       "  </tbody>\n",
       "</table>\n",
       "</div>"
      ],
      "text/plain": [
       "              Missing Values  % of Total Values    type\n",
       "size                    2597                8.7  object\n",
       "comment_time            2176                7.3  object"
      ]
     },
     "execution_count": 8,
     "metadata": {},
     "output_type": "execute_result"
    }
   ],
   "source": [
    "missing_values_table(df)"
   ]
  },
  {
   "cell_type": "markdown",
   "id": "d8562c07",
   "metadata": {},
   "source": [
    "**咱们就以50%为界限，如果一个变量有超过50%的缺失的话，我们就将其抛弃**"
   ]
  },
  {
   "cell_type": "code",
   "execution_count": 9,
   "id": "7eb4b602",
   "metadata": {},
   "outputs": [],
   "source": [
    "missing_frac = df.isnull().mean()\n",
    "drop_list = sorted(missing_frac[missing_frac > 0.50].index)"
   ]
  },
  {
   "cell_type": "code",
   "execution_count": 10,
   "id": "b0661236",
   "metadata": {},
   "outputs": [
    {
     "data": {
      "text/plain": [
       "0"
      ]
     },
     "execution_count": 10,
     "metadata": {},
     "output_type": "execute_result"
    }
   ],
   "source": [
    "len(drop_list)"
   ]
  },
  {
   "cell_type": "code",
   "execution_count": 11,
   "id": "4560df99",
   "metadata": {},
   "outputs": [],
   "source": [
    "# 定义一个删除变量的函数，只要把要删除的变量列表放进去就行，方便之后使用\n",
    "def drop_cols(cols):\n",
    "    df.drop(labels=cols, axis=1, inplace=True)"
   ]
  },
  {
   "cell_type": "code",
   "execution_count": 12,
   "id": "758c7762",
   "metadata": {
    "scrolled": true
   },
   "outputs": [],
   "source": [
    "drop_cols(drop_list)"
   ]
  },
  {
   "cell_type": "code",
   "execution_count": 13,
   "id": "0c31849a",
   "metadata": {},
   "outputs": [
    {
     "name": "stdout",
     "output_type": "stream",
     "text": [
      "你所选择的数据有 13 列.\n",
      "其中有 2 列的变量是有缺失值的.\n"
     ]
    },
    {
     "data": {
      "text/html": [
       "<div>\n",
       "<style scoped>\n",
       "    .dataframe tbody tr th:only-of-type {\n",
       "        vertical-align: middle;\n",
       "    }\n",
       "\n",
       "    .dataframe tbody tr th {\n",
       "        vertical-align: top;\n",
       "    }\n",
       "\n",
       "    .dataframe thead th {\n",
       "        text-align: right;\n",
       "    }\n",
       "</style>\n",
       "<table border=\"1\" class=\"dataframe\">\n",
       "  <thead>\n",
       "    <tr style=\"text-align: right;\">\n",
       "      <th></th>\n",
       "      <th>Missing Values</th>\n",
       "      <th>% of Total Values</th>\n",
       "      <th>type</th>\n",
       "    </tr>\n",
       "  </thead>\n",
       "  <tbody>\n",
       "    <tr>\n",
       "      <th>size</th>\n",
       "      <td>2597</td>\n",
       "      <td>8.7</td>\n",
       "      <td>object</td>\n",
       "    </tr>\n",
       "    <tr>\n",
       "      <th>comment_time</th>\n",
       "      <td>2176</td>\n",
       "      <td>7.3</td>\n",
       "      <td>object</td>\n",
       "    </tr>\n",
       "  </tbody>\n",
       "</table>\n",
       "</div>"
      ],
      "text/plain": [
       "              Missing Values  % of Total Values    type\n",
       "size                    2597                8.7  object\n",
       "comment_time            2176                7.3  object"
      ]
     },
     "execution_count": 13,
     "metadata": {},
     "output_type": "execute_result"
    }
   ],
   "source": [
    "missing_values_table(df)"
   ]
  },
  {
   "cell_type": "code",
   "execution_count": 14,
   "id": "3ecce0b9",
   "metadata": {},
   "outputs": [],
   "source": [
    "# 删除行，具有缺失值的行。目前没有缺失行\n",
    "def drop_null_row(cols):\n",
    "    df.dropna(subset=cols, axis=0, inplace=True)"
   ]
  },
  {
   "cell_type": "markdown",
   "id": "a033a0f4",
   "metadata": {},
   "source": [
    "### 空值处理"
   ]
  },
  {
   "cell_type": "markdown",
   "id": "be56b7f2",
   "metadata": {},
   "source": [
    "**替换size中的空值为无**"
   ]
  },
  {
   "cell_type": "code",
   "execution_count": 15,
   "id": "adb4c52e",
   "metadata": {},
   "outputs": [
    {
     "name": "stdout",
     "output_type": "stream",
     "text": [
      "你所选择的数据有 13 列.\n",
      "其中有 1 列的变量是有缺失值的.\n"
     ]
    },
    {
     "data": {
      "text/html": [
       "<div>\n",
       "<style scoped>\n",
       "    .dataframe tbody tr th:only-of-type {\n",
       "        vertical-align: middle;\n",
       "    }\n",
       "\n",
       "    .dataframe tbody tr th {\n",
       "        vertical-align: top;\n",
       "    }\n",
       "\n",
       "    .dataframe thead th {\n",
       "        text-align: right;\n",
       "    }\n",
       "</style>\n",
       "<table border=\"1\" class=\"dataframe\">\n",
       "  <thead>\n",
       "    <tr style=\"text-align: right;\">\n",
       "      <th></th>\n",
       "      <th>Missing Values</th>\n",
       "      <th>% of Total Values</th>\n",
       "      <th>type</th>\n",
       "    </tr>\n",
       "  </thead>\n",
       "  <tbody>\n",
       "    <tr>\n",
       "      <th>comment_time</th>\n",
       "      <td>2176</td>\n",
       "      <td>7.3</td>\n",
       "      <td>object</td>\n",
       "    </tr>\n",
       "  </tbody>\n",
       "</table>\n",
       "</div>"
      ],
      "text/plain": [
       "              Missing Values  % of Total Values    type\n",
       "comment_time            2176                7.3  object"
      ]
     },
     "execution_count": 15,
     "metadata": {},
     "output_type": "execute_result"
    }
   ],
   "source": [
    "df['size'].replace(\"\",np.nan)\n",
    "df['size'].fillna('无',inplace=True)\n",
    "missing_values_table(df)"
   ]
  },
  {
   "cell_type": "markdown",
   "id": "c339b1d7",
   "metadata": {},
   "source": [
    "**由于comment_time是我们一项重要的数据，所以空缺部分统一格式化，以避免在后续分析时对结果产生干扰**"
   ]
  },
  {
   "cell_type": "code",
   "execution_count": 16,
   "id": "16712b4b",
   "metadata": {},
   "outputs": [
    {
     "data": {
      "text/plain": [
       "(27641, 13)"
      ]
     },
     "execution_count": 16,
     "metadata": {},
     "output_type": "execute_result"
    }
   ],
   "source": [
    "df[\"comment_time\"].isnull()\n",
    "df.dropna(how='any',inplace=True)\n",
    "df.shape"
   ]
  },
  {
   "cell_type": "markdown",
   "id": "54c0f162",
   "metadata": {},
   "source": [
    "### 独特率"
   ]
  },
  {
   "cell_type": "markdown",
   "id": "76e5d339",
   "metadata": {},
   "source": [
    "**这里我们不能再使用一个比例来剔除独特率高或者低的变量了，因为对于不同的变量，独特率高或者低都有可能是正常的**"
   ]
  },
  {
   "cell_type": "code",
   "execution_count": 17,
   "id": "f4ae0dec",
   "metadata": {},
   "outputs": [
    {
     "data": {
      "text/plain": [
       "first_category         9\n",
       "second_category       18\n",
       "third_category        56\n",
       "brand                331\n",
       "price                279\n",
       "good_percent          20\n",
       "user_name           7189\n",
       "plus                   2\n",
       "star                   5\n",
       "content            24567\n",
       "style               1160\n",
       "size                 653\n",
       "comment_time       24122\n",
       "dtype: int64"
      ]
     },
     "execution_count": 17,
     "metadata": {},
     "output_type": "execute_result"
    }
   ],
   "source": [
    "df.nunique()"
   ]
  },
  {
   "cell_type": "markdown",
   "id": "5141d776",
   "metadata": {},
   "source": [
    "### 剔除重复值"
   ]
  },
  {
   "cell_type": "markdown",
   "id": "39b7767f",
   "metadata": {},
   "source": [
    "**删除了完全重复的行，剩下的都是有效数据**"
   ]
  },
  {
   "cell_type": "code",
   "execution_count": 18,
   "id": "9366e4bf",
   "metadata": {},
   "outputs": [
    {
     "data": {
      "text/plain": [
       "(26741, 13)"
      ]
     },
     "execution_count": 18,
     "metadata": {},
     "output_type": "execute_result"
    }
   ],
   "source": [
    "df = df.drop_duplicates()\n",
    "df.shape"
   ]
  },
  {
   "cell_type": "markdown",
   "id": "f12c6017",
   "metadata": {},
   "source": [
    "### 格式化"
   ]
  },
  {
   "cell_type": "code",
   "execution_count": 19,
   "id": "d0e23cf4",
   "metadata": {},
   "outputs": [],
   "source": [
    "### 调整百分数"
   ]
  },
  {
   "cell_type": "code",
   "execution_count": 20,
   "id": "ff392fc5",
   "metadata": {},
   "outputs": [
    {
     "data": {
      "text/plain": [
       "0        97.00%\n",
       "1        97.00%\n",
       "2        97.00%\n",
       "3        97.00%\n",
       "4        97.00%\n",
       "          ...  \n",
       "29812    98.00%\n",
       "29813    98.00%\n",
       "29814    98.00%\n",
       "29815    98.00%\n",
       "29816    98.00%\n",
       "Name: good_percent, Length: 26741, dtype: object"
      ]
     },
     "execution_count": 20,
     "metadata": {},
     "output_type": "execute_result"
    }
   ],
   "source": [
    "df['good_percent'] = df['good_percent'].str.strip('%').astype(float)/100\n",
    "df['good_percent'] = df['good_percent'].apply(lambda x: format(x, '.2%'))\n",
    "df['good_percent']"
   ]
  },
  {
   "cell_type": "code",
   "execution_count": 21,
   "id": "73a2baf5",
   "metadata": {},
   "outputs": [
    {
     "data": {
      "text/plain": [
       "0        5\n",
       "1        5\n",
       "2        5\n",
       "3        5\n",
       "4        5\n",
       "        ..\n",
       "29812    5\n",
       "29813    5\n",
       "29814    5\n",
       "29815    5\n",
       "29816    5\n",
       "Name: star, Length: 26741, dtype: int64"
      ]
     },
     "execution_count": 21,
     "metadata": {},
     "output_type": "execute_result"
    }
   ],
   "source": [
    "df[\"star\"] = df['star'].str.replace(\"comment-star star\",\"\")\n",
    "df[\"star\"] = pd.to_numeric(df[\"star\"])\n",
    "df['star']"
   ]
  },
  {
   "cell_type": "code",
   "execution_count": 22,
   "id": "2c90c1a9",
   "metadata": {},
   "outputs": [
    {
     "data": {
      "text/plain": [
       "0       2022-10-24\n",
       "1       2022-10-24\n",
       "2       2022-10-23\n",
       "3       2022-10-23\n",
       "4       2022-10-22\n",
       "           ...    \n",
       "29812   2021-07-25\n",
       "29813   2021-07-10\n",
       "29814   2021-07-09\n",
       "29815   2021-06-21\n",
       "29816   2021-06-20\n",
       "Name: comment_time, Length: 26741, dtype: datetime64[ns]"
      ]
     },
     "execution_count": 22,
     "metadata": {},
     "output_type": "execute_result"
    }
   ],
   "source": [
    "df[\"price\"] = df[\"price\"].str.replace('￥ ', '')\n",
    "df[\"content\"] = df[\"content\"].str.replace('\\n', '')\n",
    "# 转换数据类型为datetime\n",
    "df['comment_time'] = pd.to_datetime(df['comment_time'])\n",
    "df['comment_time'] = df['comment_time'].dt.date\n",
    "df['comment_time'] = pd.to_datetime(df['comment_time'])\n",
    "df['comment_time']"
   ]
  },
  {
   "cell_type": "code",
   "execution_count": 23,
   "id": "db680432",
   "metadata": {
    "tags": []
   },
   "outputs": [
    {
     "data": {
      "text/html": [
       "<div>\n",
       "<style scoped>\n",
       "    .dataframe tbody tr th:only-of-type {\n",
       "        vertical-align: middle;\n",
       "    }\n",
       "\n",
       "    .dataframe tbody tr th {\n",
       "        vertical-align: top;\n",
       "    }\n",
       "\n",
       "    .dataframe thead th {\n",
       "        text-align: right;\n",
       "    }\n",
       "</style>\n",
       "<table border=\"1\" class=\"dataframe\">\n",
       "  <thead>\n",
       "    <tr style=\"text-align: right;\">\n",
       "      <th></th>\n",
       "      <th>first_category</th>\n",
       "      <th>second_category</th>\n",
       "      <th>third_category</th>\n",
       "      <th>brand</th>\n",
       "      <th>price</th>\n",
       "      <th>good_percent</th>\n",
       "      <th>user_name</th>\n",
       "      <th>plus</th>\n",
       "      <th>star</th>\n",
       "      <th>content</th>\n",
       "      <th>style</th>\n",
       "      <th>size</th>\n",
       "      <th>comment_time</th>\n",
       "    </tr>\n",
       "  </thead>\n",
       "  <tbody>\n",
       "    <tr>\n",
       "      <th>0</th>\n",
       "      <td>服饰内衣</td>\n",
       "      <td>女装</td>\n",
       "      <td>连衣裙</td>\n",
       "      <td>皮尔卡丹（pierre cardin）</td>\n",
       "      <td>158.00</td>\n",
       "      <td>97.00%</td>\n",
       "      <td>****G</td>\n",
       "      <td>False</td>\n",
       "      <td>5</td>\n",
       "      <td>很好看的连衣裙，质量非常的好，穿起来很暖和。衣服尺码刚好合适。穿起来还挺显瘦的，朋友都说好看。</td>\n",
       "      <td>两件套套装</td>\n",
       "      <td>M （建议100-110斤）</td>\n",
       "      <td>2022-10-24</td>\n",
       "    </tr>\n",
       "    <tr>\n",
       "      <th>1</th>\n",
       "      <td>服饰内衣</td>\n",
       "      <td>女装</td>\n",
       "      <td>连衣裙</td>\n",
       "      <td>皮尔卡丹（pierre cardin）</td>\n",
       "      <td>158.00</td>\n",
       "      <td>97.00%</td>\n",
       "      <td>****n</td>\n",
       "      <td>False</td>\n",
       "      <td>5</td>\n",
       "      <td>尺码很标准，上身效果很不错，客服态度很热情，价格很实惠。</td>\n",
       "      <td>两件套套装</td>\n",
       "      <td>M （建议100-110斤）</td>\n",
       "      <td>2022-10-24</td>\n",
       "    </tr>\n",
       "    <tr>\n",
       "      <th>2</th>\n",
       "      <td>服饰内衣</td>\n",
       "      <td>女装</td>\n",
       "      <td>连衣裙</td>\n",
       "      <td>皮尔卡丹（pierre cardin）</td>\n",
       "      <td>158.00</td>\n",
       "      <td>97.00%</td>\n",
       "      <td>****g</td>\n",
       "      <td>False</td>\n",
       "      <td>5</td>\n",
       "      <td>质量真的是很不错，很满意的，包装很用心，客服态度特别的好，值得推荐。</td>\n",
       "      <td>两件套套装</td>\n",
       "      <td>M （建议100-110斤）</td>\n",
       "      <td>2022-10-23</td>\n",
       "    </tr>\n",
       "    <tr>\n",
       "      <th>3</th>\n",
       "      <td>服饰内衣</td>\n",
       "      <td>女装</td>\n",
       "      <td>连衣裙</td>\n",
       "      <td>皮尔卡丹（pierre cardin）</td>\n",
       "      <td>158.00</td>\n",
       "      <td>97.00%</td>\n",
       "      <td>****C</td>\n",
       "      <td>False</td>\n",
       "      <td>5</td>\n",
       "      <td>衣服收到啦，套装简直是懒人福音，不用考虑搭配啦，质量很好，穿上特别显瘦，气质也很好，通勤日常...</td>\n",
       "      <td>两件套套装</td>\n",
       "      <td>M （建议100-110斤）</td>\n",
       "      <td>2022-10-23</td>\n",
       "    </tr>\n",
       "    <tr>\n",
       "      <th>4</th>\n",
       "      <td>服饰内衣</td>\n",
       "      <td>女装</td>\n",
       "      <td>连衣裙</td>\n",
       "      <td>皮尔卡丹（pierre cardin）</td>\n",
       "      <td>158.00</td>\n",
       "      <td>97.00%</td>\n",
       "      <td>****E</td>\n",
       "      <td>False</td>\n",
       "      <td>5</td>\n",
       "      <td>面料很舒适，尺码大小很标准，做工很精细，客服态度也是特别的好。</td>\n",
       "      <td>两件套套装</td>\n",
       "      <td>M （建议100-110斤）</td>\n",
       "      <td>2022-10-22</td>\n",
       "    </tr>\n",
       "    <tr>\n",
       "      <th>...</th>\n",
       "      <td>...</td>\n",
       "      <td>...</td>\n",
       "      <td>...</td>\n",
       "      <td>...</td>\n",
       "      <td>...</td>\n",
       "      <td>...</td>\n",
       "      <td>...</td>\n",
       "      <td>...</td>\n",
       "      <td>...</td>\n",
       "      <td>...</td>\n",
       "      <td>...</td>\n",
       "      <td>...</td>\n",
       "      <td>...</td>\n",
       "    </tr>\n",
       "    <tr>\n",
       "      <th>29812</th>\n",
       "      <td>母婴</td>\n",
       "      <td>童鞋</td>\n",
       "      <td>儿童运动鞋</td>\n",
       "      <td>特步（XTEP）</td>\n",
       "      <td>139.90</td>\n",
       "      <td>98.00%</td>\n",
       "      <td>x***n</td>\n",
       "      <td>False</td>\n",
       "      <td>5</td>\n",
       "      <td>还不错，给弟弟买的，性价比高</td>\n",
       "      <td>黑白</td>\n",
       "      <td>38码</td>\n",
       "      <td>2021-07-25</td>\n",
       "    </tr>\n",
       "    <tr>\n",
       "      <th>29813</th>\n",
       "      <td>母婴</td>\n",
       "      <td>童鞋</td>\n",
       "      <td>儿童运动鞋</td>\n",
       "      <td>特步（XTEP）</td>\n",
       "      <td>139.90</td>\n",
       "      <td>98.00%</td>\n",
       "      <td>s***m</td>\n",
       "      <td>True</td>\n",
       "      <td>5</td>\n",
       "      <td>鞋子挺好的，小孩很喜欢。</td>\n",
       "      <td>黑白</td>\n",
       "      <td>38码</td>\n",
       "      <td>2021-07-10</td>\n",
       "    </tr>\n",
       "    <tr>\n",
       "      <th>29814</th>\n",
       "      <td>母婴</td>\n",
       "      <td>童鞋</td>\n",
       "      <td>儿童运动鞋</td>\n",
       "      <td>特步（XTEP）</td>\n",
       "      <td>139.90</td>\n",
       "      <td>98.00%</td>\n",
       "      <td>****Q</td>\n",
       "      <td>False</td>\n",
       "      <td>5</td>\n",
       "      <td>质量很好，舒服，不错的选择，大爱……</td>\n",
       "      <td>黑白</td>\n",
       "      <td>38码</td>\n",
       "      <td>2021-07-09</td>\n",
       "    </tr>\n",
       "    <tr>\n",
       "      <th>29815</th>\n",
       "      <td>母婴</td>\n",
       "      <td>童鞋</td>\n",
       "      <td>儿童运动鞋</td>\n",
       "      <td>特步（XTEP）</td>\n",
       "      <td>139.90</td>\n",
       "      <td>98.00%</td>\n",
       "      <td>****o</td>\n",
       "      <td>False</td>\n",
       "      <td>5</td>\n",
       "      <td>帮小儿子卖的，特步头一回购卖，质量如何，用了才知道。</td>\n",
       "      <td>黑白</td>\n",
       "      <td>38码</td>\n",
       "      <td>2021-06-21</td>\n",
       "    </tr>\n",
       "    <tr>\n",
       "      <th>29816</th>\n",
       "      <td>母婴</td>\n",
       "      <td>童鞋</td>\n",
       "      <td>儿童运动鞋</td>\n",
       "      <td>特步（XTEP）</td>\n",
       "      <td>139.90</td>\n",
       "      <td>98.00%</td>\n",
       "      <td>****a</td>\n",
       "      <td>False</td>\n",
       "      <td>5</td>\n",
       "      <td>618优惠大挺实惠的，鞋子漂亮，很值，质量由时间来检验</td>\n",
       "      <td>黑白</td>\n",
       "      <td>38码</td>\n",
       "      <td>2021-06-20</td>\n",
       "    </tr>\n",
       "  </tbody>\n",
       "</table>\n",
       "<p>26741 rows × 13 columns</p>\n",
       "</div>"
      ],
      "text/plain": [
       "      first_category second_category third_category                brand  \\\n",
       "0               服饰内衣              女装            连衣裙  皮尔卡丹（pierre cardin）   \n",
       "1               服饰内衣              女装            连衣裙  皮尔卡丹（pierre cardin）   \n",
       "2               服饰内衣              女装            连衣裙  皮尔卡丹（pierre cardin）   \n",
       "3               服饰内衣              女装            连衣裙  皮尔卡丹（pierre cardin）   \n",
       "4               服饰内衣              女装            连衣裙  皮尔卡丹（pierre cardin）   \n",
       "...              ...             ...            ...                  ...   \n",
       "29812             母婴              童鞋          儿童运动鞋             特步（XTEP）   \n",
       "29813             母婴              童鞋          儿童运动鞋             特步（XTEP）   \n",
       "29814             母婴              童鞋          儿童运动鞋             特步（XTEP）   \n",
       "29815             母婴              童鞋          儿童运动鞋             特步（XTEP）   \n",
       "29816             母婴              童鞋          儿童运动鞋             特步（XTEP）   \n",
       "\n",
       "        price good_percent user_name   plus  star  \\\n",
       "0      158.00       97.00%     ****G  False     5   \n",
       "1      158.00       97.00%     ****n  False     5   \n",
       "2      158.00       97.00%     ****g  False     5   \n",
       "3      158.00       97.00%     ****C  False     5   \n",
       "4      158.00       97.00%     ****E  False     5   \n",
       "...       ...          ...       ...    ...   ...   \n",
       "29812  139.90       98.00%     x***n  False     5   \n",
       "29813  139.90       98.00%     s***m   True     5   \n",
       "29814  139.90       98.00%     ****Q  False     5   \n",
       "29815  139.90       98.00%     ****o  False     5   \n",
       "29816  139.90       98.00%     ****a  False     5   \n",
       "\n",
       "                                                 content  style  \\\n",
       "0        很好看的连衣裙，质量非常的好，穿起来很暖和。衣服尺码刚好合适。穿起来还挺显瘦的，朋友都说好看。  两件套套装   \n",
       "1                           尺码很标准，上身效果很不错，客服态度很热情，价格很实惠。  两件套套装   \n",
       "2                     质量真的是很不错，很满意的，包装很用心，客服态度特别的好，值得推荐。  两件套套装   \n",
       "3      衣服收到啦，套装简直是懒人福音，不用考虑搭配啦，质量很好，穿上特别显瘦，气质也很好，通勤日常...  两件套套装   \n",
       "4                        面料很舒适，尺码大小很标准，做工很精细，客服态度也是特别的好。  两件套套装   \n",
       "...                                                  ...    ...   \n",
       "29812                                     还不错，给弟弟买的，性价比高     黑白   \n",
       "29813                                       鞋子挺好的，小孩很喜欢。     黑白   \n",
       "29814                                 质量很好，舒服，不错的选择，大爱……     黑白   \n",
       "29815                         帮小儿子卖的，特步头一回购卖，质量如何，用了才知道。     黑白   \n",
       "29816                        618优惠大挺实惠的，鞋子漂亮，很值，质量由时间来检验     黑白   \n",
       "\n",
       "                 size comment_time  \n",
       "0      M （建议100-110斤）   2022-10-24  \n",
       "1      M （建议100-110斤）   2022-10-24  \n",
       "2      M （建议100-110斤）   2022-10-23  \n",
       "3      M （建议100-110斤）   2022-10-23  \n",
       "4      M （建议100-110斤）   2022-10-22  \n",
       "...               ...          ...  \n",
       "29812             38码   2021-07-25  \n",
       "29813             38码   2021-07-10  \n",
       "29814             38码   2021-07-09  \n",
       "29815             38码   2021-06-21  \n",
       "29816             38码   2021-06-20  \n",
       "\n",
       "[26741 rows x 13 columns]"
      ]
     },
     "execution_count": 23,
     "metadata": {},
     "output_type": "execute_result"
    }
   ],
   "source": [
    "df"
   ]
  },
  {
   "cell_type": "markdown",
   "id": "1f874216-c0cf-4fe0-9ed3-c3ad9a0c0e87",
   "metadata": {},
   "source": [
    "拆分颜色"
   ]
  },
  {
   "cell_type": "code",
   "execution_count": 24,
   "id": "6a15f1f2-7f98-45cb-8217-820a19093352",
   "metadata": {},
   "outputs": [
    {
     "data": {
      "text/html": [
       "<div>\n",
       "<style scoped>\n",
       "    .dataframe tbody tr th:only-of-type {\n",
       "        vertical-align: middle;\n",
       "    }\n",
       "\n",
       "    .dataframe tbody tr th {\n",
       "        vertical-align: top;\n",
       "    }\n",
       "\n",
       "    .dataframe thead th {\n",
       "        text-align: right;\n",
       "    }\n",
       "</style>\n",
       "<table border=\"1\" class=\"dataframe\">\n",
       "  <thead>\n",
       "    <tr style=\"text-align: right;\">\n",
       "      <th></th>\n",
       "      <th>first_category</th>\n",
       "      <th>second_category</th>\n",
       "      <th>third_category</th>\n",
       "      <th>brand</th>\n",
       "      <th>price</th>\n",
       "      <th>good_percent</th>\n",
       "      <th>user_name</th>\n",
       "      <th>plus</th>\n",
       "      <th>star</th>\n",
       "      <th>content</th>\n",
       "      <th>style</th>\n",
       "      <th>size</th>\n",
       "      <th>comment_time</th>\n",
       "      <th>color</th>\n",
       "    </tr>\n",
       "  </thead>\n",
       "  <tbody>\n",
       "    <tr>\n",
       "      <th>0</th>\n",
       "      <td>服饰内衣</td>\n",
       "      <td>女装</td>\n",
       "      <td>连衣裙</td>\n",
       "      <td>皮尔卡丹（pierre cardin）</td>\n",
       "      <td>158.00</td>\n",
       "      <td>97.00%</td>\n",
       "      <td>****G</td>\n",
       "      <td>False</td>\n",
       "      <td>5</td>\n",
       "      <td>很好看的连衣裙，质量非常的好，穿起来很暖和。衣服尺码刚好合适。穿起来还挺显瘦的，朋友都说好看。</td>\n",
       "      <td>两件套套装</td>\n",
       "      <td>M （建议100-110斤）</td>\n",
       "      <td>2022-10-24</td>\n",
       "      <td>两件套套装</td>\n",
       "    </tr>\n",
       "    <tr>\n",
       "      <th>1</th>\n",
       "      <td>服饰内衣</td>\n",
       "      <td>女装</td>\n",
       "      <td>连衣裙</td>\n",
       "      <td>皮尔卡丹（pierre cardin）</td>\n",
       "      <td>158.00</td>\n",
       "      <td>97.00%</td>\n",
       "      <td>****n</td>\n",
       "      <td>False</td>\n",
       "      <td>5</td>\n",
       "      <td>尺码很标准，上身效果很不错，客服态度很热情，价格很实惠。</td>\n",
       "      <td>两件套套装</td>\n",
       "      <td>M （建议100-110斤）</td>\n",
       "      <td>2022-10-24</td>\n",
       "      <td>两件套套装</td>\n",
       "    </tr>\n",
       "    <tr>\n",
       "      <th>2</th>\n",
       "      <td>服饰内衣</td>\n",
       "      <td>女装</td>\n",
       "      <td>连衣裙</td>\n",
       "      <td>皮尔卡丹（pierre cardin）</td>\n",
       "      <td>158.00</td>\n",
       "      <td>97.00%</td>\n",
       "      <td>****g</td>\n",
       "      <td>False</td>\n",
       "      <td>5</td>\n",
       "      <td>质量真的是很不错，很满意的，包装很用心，客服态度特别的好，值得推荐。</td>\n",
       "      <td>两件套套装</td>\n",
       "      <td>M （建议100-110斤）</td>\n",
       "      <td>2022-10-23</td>\n",
       "      <td>两件套套装</td>\n",
       "    </tr>\n",
       "    <tr>\n",
       "      <th>3</th>\n",
       "      <td>服饰内衣</td>\n",
       "      <td>女装</td>\n",
       "      <td>连衣裙</td>\n",
       "      <td>皮尔卡丹（pierre cardin）</td>\n",
       "      <td>158.00</td>\n",
       "      <td>97.00%</td>\n",
       "      <td>****C</td>\n",
       "      <td>False</td>\n",
       "      <td>5</td>\n",
       "      <td>衣服收到啦，套装简直是懒人福音，不用考虑搭配啦，质量很好，穿上特别显瘦，气质也很好，通勤日常...</td>\n",
       "      <td>两件套套装</td>\n",
       "      <td>M （建议100-110斤）</td>\n",
       "      <td>2022-10-23</td>\n",
       "      <td>两件套套装</td>\n",
       "    </tr>\n",
       "    <tr>\n",
       "      <th>4</th>\n",
       "      <td>服饰内衣</td>\n",
       "      <td>女装</td>\n",
       "      <td>连衣裙</td>\n",
       "      <td>皮尔卡丹（pierre cardin）</td>\n",
       "      <td>158.00</td>\n",
       "      <td>97.00%</td>\n",
       "      <td>****E</td>\n",
       "      <td>False</td>\n",
       "      <td>5</td>\n",
       "      <td>面料很舒适，尺码大小很标准，做工很精细，客服态度也是特别的好。</td>\n",
       "      <td>两件套套装</td>\n",
       "      <td>M （建议100-110斤）</td>\n",
       "      <td>2022-10-22</td>\n",
       "      <td>两件套套装</td>\n",
       "    </tr>\n",
       "  </tbody>\n",
       "</table>\n",
       "</div>"
      ],
      "text/plain": [
       "  first_category second_category third_category                brand   price  \\\n",
       "0           服饰内衣              女装            连衣裙  皮尔卡丹（pierre cardin）  158.00   \n",
       "1           服饰内衣              女装            连衣裙  皮尔卡丹（pierre cardin）  158.00   \n",
       "2           服饰内衣              女装            连衣裙  皮尔卡丹（pierre cardin）  158.00   \n",
       "3           服饰内衣              女装            连衣裙  皮尔卡丹（pierre cardin）  158.00   \n",
       "4           服饰内衣              女装            连衣裙  皮尔卡丹（pierre cardin）  158.00   \n",
       "\n",
       "  good_percent user_name   plus  star  \\\n",
       "0       97.00%     ****G  False     5   \n",
       "1       97.00%     ****n  False     5   \n",
       "2       97.00%     ****g  False     5   \n",
       "3       97.00%     ****C  False     5   \n",
       "4       97.00%     ****E  False     5   \n",
       "\n",
       "                                             content  style            size  \\\n",
       "0    很好看的连衣裙，质量非常的好，穿起来很暖和。衣服尺码刚好合适。穿起来还挺显瘦的，朋友都说好看。  两件套套装  M （建议100-110斤）   \n",
       "1                       尺码很标准，上身效果很不错，客服态度很热情，价格很实惠。  两件套套装  M （建议100-110斤）   \n",
       "2                 质量真的是很不错，很满意的，包装很用心，客服态度特别的好，值得推荐。  两件套套装  M （建议100-110斤）   \n",
       "3  衣服收到啦，套装简直是懒人福音，不用考虑搭配啦，质量很好，穿上特别显瘦，气质也很好，通勤日常...  两件套套装  M （建议100-110斤）   \n",
       "4                    面料很舒适，尺码大小很标准，做工很精细，客服态度也是特别的好。  两件套套装  M （建议100-110斤）   \n",
       "\n",
       "  comment_time  color  \n",
       "0   2022-10-24  两件套套装  \n",
       "1   2022-10-24  两件套套装  \n",
       "2   2022-10-23  两件套套装  \n",
       "3   2022-10-23  两件套套装  \n",
       "4   2022-10-22  两件套套装  "
      ]
     },
     "execution_count": 24,
     "metadata": {},
     "output_type": "execute_result"
    }
   ],
   "source": [
    "# df = pd.read_csv('1.csv',encoding=\"utf_8_sig\")\n",
    "styly_list = df['style'].str.split('色',n=1,expand=True)\n",
    "df['color'] = styly_list[0]\n",
    "df.head()"
   ]
  },
  {
   "cell_type": "markdown",
   "id": "77401e1b-bbe3-40a1-bafd-1f848c4fb2d9",
   "metadata": {},
   "source": [
    "文字切词"
   ]
  },
  {
   "cell_type": "code",
   "execution_count": 25,
   "id": "ff89685c-4e3d-4803-8173-efd7d87bf223",
   "metadata": {},
   "outputs": [
    {
     "name": "stderr",
     "output_type": "stream",
     "text": [
      "Building prefix dict from the default dictionary ...\n",
      "Dumping model to file cache C:\\Users\\13169\\AppData\\Local\\Temp\\jieba.cache\n",
      "Loading model cost 0.605 seconds.\n",
      "Prefix dict has been built successfully.\n"
     ]
    },
    {
     "data": {
      "text/html": [
       "<div>\n",
       "<style scoped>\n",
       "    .dataframe tbody tr th:only-of-type {\n",
       "        vertical-align: middle;\n",
       "    }\n",
       "\n",
       "    .dataframe tbody tr th {\n",
       "        vertical-align: top;\n",
       "    }\n",
       "\n",
       "    .dataframe thead th {\n",
       "        text-align: right;\n",
       "    }\n",
       "</style>\n",
       "<table border=\"1\" class=\"dataframe\">\n",
       "  <thead>\n",
       "    <tr style=\"text-align: right;\">\n",
       "      <th></th>\n",
       "      <th>first_category</th>\n",
       "      <th>second_category</th>\n",
       "      <th>third_category</th>\n",
       "      <th>brand</th>\n",
       "      <th>price</th>\n",
       "      <th>good_percent</th>\n",
       "      <th>user_name</th>\n",
       "      <th>plus</th>\n",
       "      <th>star</th>\n",
       "      <th>content</th>\n",
       "      <th>style</th>\n",
       "      <th>size</th>\n",
       "      <th>comment_time</th>\n",
       "      <th>color</th>\n",
       "    </tr>\n",
       "  </thead>\n",
       "  <tbody>\n",
       "    <tr>\n",
       "      <th>0</th>\n",
       "      <td>服饰内衣</td>\n",
       "      <td>女装</td>\n",
       "      <td>连衣裙</td>\n",
       "      <td>皮尔卡丹（pierre cardin）</td>\n",
       "      <td>158.00</td>\n",
       "      <td>97.00%</td>\n",
       "      <td>****G</td>\n",
       "      <td>False</td>\n",
       "      <td>5</td>\n",
       "      <td>好看 连衣裙 质量 穿 暖和 衣服 尺码 合适 穿 挺 显瘦 朋友 说 好看</td>\n",
       "      <td>两件套 套装</td>\n",
       "      <td>M   建议 100 110 斤</td>\n",
       "      <td>2022-10-24</td>\n",
       "      <td>两件套套装</td>\n",
       "    </tr>\n",
       "    <tr>\n",
       "      <th>1</th>\n",
       "      <td>服饰内衣</td>\n",
       "      <td>女装</td>\n",
       "      <td>连衣裙</td>\n",
       "      <td>皮尔卡丹（pierre cardin）</td>\n",
       "      <td>158.00</td>\n",
       "      <td>97.00%</td>\n",
       "      <td>****n</td>\n",
       "      <td>False</td>\n",
       "      <td>5</td>\n",
       "      <td>尺码 标准 上身 效果 不错 客服 态度 热情 价格 实惠</td>\n",
       "      <td>两件套 套装</td>\n",
       "      <td>M   建议 100 110 斤</td>\n",
       "      <td>2022-10-24</td>\n",
       "      <td>两件套套装</td>\n",
       "    </tr>\n",
       "    <tr>\n",
       "      <th>2</th>\n",
       "      <td>服饰内衣</td>\n",
       "      <td>女装</td>\n",
       "      <td>连衣裙</td>\n",
       "      <td>皮尔卡丹（pierre cardin）</td>\n",
       "      <td>158.00</td>\n",
       "      <td>97.00%</td>\n",
       "      <td>****g</td>\n",
       "      <td>False</td>\n",
       "      <td>5</td>\n",
       "      <td>质量 真的 不错 满意 包装 用心 客服 态度 特别 值得 推荐</td>\n",
       "      <td>两件套 套装</td>\n",
       "      <td>M   建议 100 110 斤</td>\n",
       "      <td>2022-10-23</td>\n",
       "      <td>两件套套装</td>\n",
       "    </tr>\n",
       "    <tr>\n",
       "      <th>3</th>\n",
       "      <td>服饰内衣</td>\n",
       "      <td>女装</td>\n",
       "      <td>连衣裙</td>\n",
       "      <td>皮尔卡丹（pierre cardin）</td>\n",
       "      <td>158.00</td>\n",
       "      <td>97.00%</td>\n",
       "      <td>****C</td>\n",
       "      <td>False</td>\n",
       "      <td>5</td>\n",
       "      <td>衣服 收到 套装 懒人 福音 不用 搭配 质量 穿 特别 显瘦 气质 通勤 日常 穿 好看 ...</td>\n",
       "      <td>两件套 套装</td>\n",
       "      <td>M   建议 100 110 斤</td>\n",
       "      <td>2022-10-23</td>\n",
       "      <td>两件套套装</td>\n",
       "    </tr>\n",
       "    <tr>\n",
       "      <th>4</th>\n",
       "      <td>服饰内衣</td>\n",
       "      <td>女装</td>\n",
       "      <td>连衣裙</td>\n",
       "      <td>皮尔卡丹（pierre cardin）</td>\n",
       "      <td>158.00</td>\n",
       "      <td>97.00%</td>\n",
       "      <td>****E</td>\n",
       "      <td>False</td>\n",
       "      <td>5</td>\n",
       "      <td>面料 舒适 尺码 大小 标准 做工 精细 客服 态度 特别</td>\n",
       "      <td>两件套 套装</td>\n",
       "      <td>M   建议 100 110 斤</td>\n",
       "      <td>2022-10-22</td>\n",
       "      <td>两件套套装</td>\n",
       "    </tr>\n",
       "  </tbody>\n",
       "</table>\n",
       "</div>"
      ],
      "text/plain": [
       "  first_category second_category third_category                brand   price  \\\n",
       "0           服饰内衣              女装            连衣裙  皮尔卡丹（pierre cardin）  158.00   \n",
       "1           服饰内衣              女装            连衣裙  皮尔卡丹（pierre cardin）  158.00   \n",
       "2           服饰内衣              女装            连衣裙  皮尔卡丹（pierre cardin）  158.00   \n",
       "3           服饰内衣              女装            连衣裙  皮尔卡丹（pierre cardin）  158.00   \n",
       "4           服饰内衣              女装            连衣裙  皮尔卡丹（pierre cardin）  158.00   \n",
       "\n",
       "  good_percent user_name   plus  star  \\\n",
       "0       97.00%     ****G  False     5   \n",
       "1       97.00%     ****n  False     5   \n",
       "2       97.00%     ****g  False     5   \n",
       "3       97.00%     ****C  False     5   \n",
       "4       97.00%     ****E  False     5   \n",
       "\n",
       "                                             content    style  \\\n",
       "0            好看 连衣裙 质量 穿 暖和 衣服 尺码 合适 穿 挺 显瘦 朋友 说 好看   两件套 套装    \n",
       "1                     尺码 标准 上身 效果 不错 客服 态度 热情 价格 实惠   两件套 套装    \n",
       "2                  质量 真的 不错 满意 包装 用心 客服 态度 特别 值得 推荐   两件套 套装    \n",
       "3  衣服 收到 套装 懒人 福音 不用 搭配 质量 穿 特别 显瘦 气质 通勤 日常 穿 好看 ...  两件套 套装    \n",
       "4                     面料 舒适 尺码 大小 标准 做工 精细 客服 态度 特别   两件套 套装    \n",
       "\n",
       "                size comment_time  color  \n",
       "0  M   建议 100 110 斤    2022-10-24  两件套套装  \n",
       "1  M   建议 100 110 斤    2022-10-24  两件套套装  \n",
       "2  M   建议 100 110 斤    2022-10-23  两件套套装  \n",
       "3  M   建议 100 110 斤    2022-10-23  两件套套装  \n",
       "4  M   建议 100 110 斤    2022-10-22  两件套套装  "
      ]
     },
     "execution_count": 25,
     "metadata": {},
     "output_type": "execute_result"
    }
   ],
   "source": [
    "import jieba\n",
    "# df = pd.read_csv('1.csv',encoding=\"utf_8_sig\")\n",
    "# 创建停用词list\n",
    "def stopwordslist(filepath):\n",
    "    stopwords = [line.strip() for line in open(filepath, 'r', encoding='utf-8').readlines()]\n",
    "    return stopwords\n",
    "\n",
    "# 对句子进行分词\n",
    "def seg_sentence(sentence):\n",
    "    sentence_seged = jieba.cut(sentence.strip())\n",
    "    stopwords = stopwordslist('NLP停用词.txt')  # 这里加载停用词的路径\n",
    "    outstr = ''\n",
    "    for word in sentence_seged:\n",
    "        if word not in stopwords:\n",
    "            if word != '\\t':\n",
    "                outstr += word\n",
    "                outstr += \" \"\n",
    "    return outstr\n",
    "\n",
    "\n",
    "# r = seg_sentence(df.iloc[0][10])\n",
    "# print(r)\n",
    "# s = seg_sentence(df.loc[0,'size'])\n",
    "# print(s)\n",
    "for index, row in df.iterrows():\n",
    "    df.loc[index,'content'] = seg_sentence(row['content'])\n",
    "    df.loc[index,'style'] = seg_sentence(row['style'])\n",
    "    df.loc[index,'size'] = seg_sentence(row['size'])\n",
    "df.head()"
   ]
  },
  {
   "cell_type": "code",
   "execution_count": 26,
   "id": "2f0ffb4d-e6fc-486d-b1ae-a71e368a60c6",
   "metadata": {},
   "outputs": [],
   "source": [
    "df2 = df.copy()"
   ]
  },
  {
   "cell_type": "markdown",
   "id": "b9d4c230-8009-4f50-a29d-ab09a132a1b1",
   "metadata": {},
   "source": [
    "切分size属性"
   ]
  },
  {
   "cell_type": "code",
   "execution_count": 27,
   "id": "ddc57629-c14b-4864-8d56-356c6a176b7a",
   "metadata": {},
   "outputs": [
    {
     "data": {
      "text/plain": [
       "array(['M', 'F', 'L', '均码', 'AL', 'XL', 'XXL', 'S', 'XXXL', 'AM', '',\n",
       "       'XL码', 'AXL', 'AXS', 'AS', 'A', 'MA', 'LA', 'XXS', 'XLA', 'XXLA',\n",
       "       'AXXL', '36码', '2XL码', '33码', 'B', '请拍正确尺码', 'XS', '大码', '加大码',\n",
       "       'S码', 'AB', 'BAB', 'ABCM', 'Free', 'MABCA', 'C', 'BM', '75B34B配M码',\n",
       "       'ABC', 'XLABC', 'BCDcm', 'CDcm', 'BCD', '7534AB通杯偏小一码', 'D', 'DD',\n",
       "       'MCAB', 'CM', 'MABC', 'AA', 'ABAB', 'LABC', 'BC', '75B内裤M码',\n",
       "       'uminiB', 'miniB', 'BB', 'CC', 'XXLABC', 'M均码', 'MCDBCD', 'ACM',\n",
       "       'LABCD', 'MBCAB', 'cm', '150码', '140码', '160码', '130码', 'Mcm',\n",
       "       '28码', '37码', 'mm', 'cmcm', '24码', '5Y37.5码', '34码', '32码',\n",
       "       '9.5k27码', '27码', '内长12.5cm18码', '38码', '29码', '39码', '31码', '13码',\n",
       "       '4.5uk37码', '30码', '20码', '17码', '38.5码', '05Y37.5码', '10.5k28.5码',\n",
       "       '内长15.5cm25码', '33.5码', '2.5uk35码', '13C31码', '35码', '16码', '15码',\n",
       "       '11C28码'], dtype=object)"
      ]
     },
     "execution_count": 27,
     "metadata": {},
     "output_type": "execute_result"
    }
   ],
   "source": [
    "# df['style'].str.split(expand=True)\n",
    "# df['size'].str.split(expand=True)\n",
    "import re\n",
    "for index, row in df.iterrows():\n",
    "    if '码' in row['size']:\n",
    "        df2.loc[index,'size'] = re.sub('(?<=码).*',\"\", row['size']).strip().replace(\" \",\"\")\n",
    "    else:\n",
    "        df2.loc[index,'size'] = re.sub(r\"[^a-zA-Z ]+\", '', row['size']).strip().replace(\" \",\"\")\n",
    "        \n",
    "df2['size'].unique()"
   ]
  },
  {
   "cell_type": "code",
   "execution_count": 28,
   "id": "cd4c2716-2d78-41cd-83df-9dd36a3c7836",
   "metadata": {},
   "outputs": [],
   "source": [
    "df2.to_csv(\"评论详情表.csv\",encoding=\"utf_8_sig\")"
   ]
  },
  {
   "cell_type": "markdown",
   "id": "d2d0c49a",
   "metadata": {
    "tags": []
   },
   "source": [
    "#### 输出评论详情表"
   ]
  },
  {
   "cell_type": "code",
   "execution_count": 29,
   "id": "87065da8",
   "metadata": {},
   "outputs": [],
   "source": [
    "df.to_csv(\"评论详情表.csv\",encoding=\"utf_8_sig\")"
   ]
  },
  {
   "cell_type": "markdown",
   "id": "96ee5a50",
   "metadata": {},
   "source": [
    "### 提取额外信息"
   ]
  },
  {
   "cell_type": "markdown",
   "id": "9d535518",
   "metadata": {},
   "source": [
    "#### 获得价格分组和销售数"
   ]
  },
  {
   "cell_type": "code",
   "execution_count": 40,
   "id": "af0f85ac",
   "metadata": {},
   "outputs": [],
   "source": [
    "df['price'] = df['price'].str.replace(\"￥\",\"\")"
   ]
  },
  {
   "cell_type": "code",
   "execution_count": 41,
   "id": "97edae41",
   "metadata": {},
   "outputs": [],
   "source": [
    "df[\"price\"] = df[\"price\"].apply(pd.to_numeric)\n",
    "df_group_sales = df.groupby([\"first_category\",\"second_category\",\"third_category\",\"brand\"])['price'].value_counts().rename('counts').reset_index()"
   ]
  },
  {
   "cell_type": "markdown",
   "id": "181d46a8",
   "metadata": {},
   "source": [
    "#### 统计销售额"
   ]
  },
  {
   "cell_type": "code",
   "execution_count": 42,
   "id": "0c052035",
   "metadata": {},
   "outputs": [],
   "source": [
    "df_group_sales[\"sales\"]=df_group_sales[[\"price\",\"counts\"]].apply(lambda x:x[\"price\"] * x[\"counts\"],axis=1)"
   ]
  },
  {
   "cell_type": "code",
   "execution_count": 43,
   "id": "75f075cc",
   "metadata": {},
   "outputs": [
    {
     "data": {
      "text/plain": [
       "0         30.3\n",
       "1       1040.4\n",
       "2        645.0\n",
       "3        268.8\n",
       "4        257.4\n",
       "        ...   \n",
       "856     1432.8\n",
       "857     1245.0\n",
       "858      995.0\n",
       "859     4450.0\n",
       "860    19450.0\n",
       "Name: sales, Length: 861, dtype: float64"
      ]
     },
     "execution_count": 43,
     "metadata": {},
     "output_type": "execute_result"
    }
   ],
   "source": [
    "df_group_sales['sales']"
   ]
  },
  {
   "cell_type": "markdown",
   "id": "ebcf3c3f",
   "metadata": {},
   "source": [
    "#### 统计同类产品的销售天数"
   ]
  },
  {
   "cell_type": "code",
   "execution_count": 44,
   "id": "712ea364",
   "metadata": {},
   "outputs": [],
   "source": [
    "df_group_days = df.groupby([\"first_category\",\"second_category\",\"third_category\",\"brand\",\"price\"])"
   ]
  },
  {
   "cell_type": "code",
   "execution_count": 45,
   "id": "fc5950c2",
   "metadata": {},
   "outputs": [
    {
     "data": {
      "text/html": [
       "<div>\n",
       "<style scoped>\n",
       "    .dataframe tbody tr th:only-of-type {\n",
       "        vertical-align: middle;\n",
       "    }\n",
       "\n",
       "    .dataframe tbody tr th {\n",
       "        vertical-align: top;\n",
       "    }\n",
       "\n",
       "    .dataframe thead th {\n",
       "        text-align: right;\n",
       "    }\n",
       "</style>\n",
       "<table border=\"1\" class=\"dataframe\">\n",
       "  <thead>\n",
       "    <tr style=\"text-align: right;\">\n",
       "      <th></th>\n",
       "      <th>first_category</th>\n",
       "      <th>second_category</th>\n",
       "      <th>third_category</th>\n",
       "      <th>brand</th>\n",
       "      <th>price</th>\n",
       "      <th>days</th>\n",
       "    </tr>\n",
       "  </thead>\n",
       "  <tbody>\n",
       "    <tr>\n",
       "      <th>0</th>\n",
       "      <td>图书</td>\n",
       "      <td>时尚/美妆</td>\n",
       "      <td>服饰搭配</td>\n",
       "      <td>凤凰含章</td>\n",
       "      <td>30.3</td>\n",
       "      <td>1</td>\n",
       "    </tr>\n",
       "    <tr>\n",
       "      <th>1</th>\n",
       "      <td>图书</td>\n",
       "      <td>时尚/美妆</td>\n",
       "      <td>服饰搭配</td>\n",
       "      <td>联合读创</td>\n",
       "      <td>61.2</td>\n",
       "      <td>17</td>\n",
       "    </tr>\n",
       "    <tr>\n",
       "      <th>2</th>\n",
       "      <td>宠物生活</td>\n",
       "      <td>猫狗出行</td>\n",
       "      <td>宠物配饰</td>\n",
       "      <td>派乐特</td>\n",
       "      <td>12.9</td>\n",
       "      <td>50</td>\n",
       "    </tr>\n",
       "    <tr>\n",
       "      <th>3</th>\n",
       "      <td>家居日用</td>\n",
       "      <td>婚庆节庆</td>\n",
       "      <td>其它婚庆节庆用品</td>\n",
       "      <td>拾点渔</td>\n",
       "      <td>12.8</td>\n",
       "      <td>20</td>\n",
       "    </tr>\n",
       "    <tr>\n",
       "      <th>4</th>\n",
       "      <td>家居日用</td>\n",
       "      <td>生活日用</td>\n",
       "      <td>缝纫/针织材料</td>\n",
       "      <td>阿麦思</td>\n",
       "      <td>9.9</td>\n",
       "      <td>26</td>\n",
       "    </tr>\n",
       "    <tr>\n",
       "      <th>...</th>\n",
       "      <td>...</td>\n",
       "      <td>...</td>\n",
       "      <td>...</td>\n",
       "      <td>...</td>\n",
       "      <td>...</td>\n",
       "      <td>...</td>\n",
       "    </tr>\n",
       "    <tr>\n",
       "      <th>856</th>\n",
       "      <td>运动户外</td>\n",
       "      <td>运动服饰</td>\n",
       "      <td>运动配饰</td>\n",
       "      <td>迪卡侬（DECATHLON）</td>\n",
       "      <td>19.9</td>\n",
       "      <td>0</td>\n",
       "    </tr>\n",
       "    <tr>\n",
       "      <th>857</th>\n",
       "      <td>运动户外</td>\n",
       "      <td>运动服饰</td>\n",
       "      <td>运动配饰</td>\n",
       "      <td>迪卡侬（DECATHLON）</td>\n",
       "      <td>24.9</td>\n",
       "      <td>0</td>\n",
       "    </tr>\n",
       "    <tr>\n",
       "      <th>858</th>\n",
       "      <td>运动户外</td>\n",
       "      <td>运动服饰</td>\n",
       "      <td>运动配饰</td>\n",
       "      <td>里海狼（CASPIAN WOLF）</td>\n",
       "      <td>19.9</td>\n",
       "      <td>50</td>\n",
       "    </tr>\n",
       "    <tr>\n",
       "      <th>859</th>\n",
       "      <td>运动户外</td>\n",
       "      <td>运动服饰</td>\n",
       "      <td>运动配饰</td>\n",
       "      <td>阿迪达斯 （adidas）</td>\n",
       "      <td>89.0</td>\n",
       "      <td>1</td>\n",
       "    </tr>\n",
       "    <tr>\n",
       "      <th>860</th>\n",
       "      <td>运动户外</td>\n",
       "      <td>运动鞋包</td>\n",
       "      <td>运动休闲鞋</td>\n",
       "      <td>ADIDAS</td>\n",
       "      <td>389.0</td>\n",
       "      <td>50</td>\n",
       "    </tr>\n",
       "  </tbody>\n",
       "</table>\n",
       "<p>861 rows × 6 columns</p>\n",
       "</div>"
      ],
      "text/plain": [
       "    first_category second_category third_category              brand  price  \\\n",
       "0               图书           时尚/美妆           服饰搭配               凤凰含章   30.3   \n",
       "1               图书           时尚/美妆           服饰搭配               联合读创   61.2   \n",
       "2             宠物生活            猫狗出行           宠物配饰                派乐特   12.9   \n",
       "3             家居日用            婚庆节庆       其它婚庆节庆用品                拾点渔   12.8   \n",
       "4             家居日用            生活日用        缝纫/针织材料                阿麦思    9.9   \n",
       "..             ...             ...            ...                ...    ...   \n",
       "856           运动户外            运动服饰           运动配饰     迪卡侬（DECATHLON）   19.9   \n",
       "857           运动户外            运动服饰           运动配饰     迪卡侬（DECATHLON）   24.9   \n",
       "858           运动户外            运动服饰           运动配饰  里海狼（CASPIAN WOLF）   19.9   \n",
       "859           运动户外            运动服饰           运动配饰      阿迪达斯 （adidas）   89.0   \n",
       "860           运动户外            运动鞋包          运动休闲鞋             ADIDAS  389.0   \n",
       "\n",
       "     days  \n",
       "0       1  \n",
       "1      17  \n",
       "2      50  \n",
       "3      20  \n",
       "4      26  \n",
       "..    ...  \n",
       "856     0  \n",
       "857     0  \n",
       "858    50  \n",
       "859     1  \n",
       "860    50  \n",
       "\n",
       "[861 rows x 6 columns]"
      ]
     },
     "execution_count": 45,
     "metadata": {},
     "output_type": "execute_result"
    }
   ],
   "source": [
    "df_group_days = df_group_days['comment_time'].nunique().rename('days').reset_index()\n",
    "pd.DataFrame(df_group_days)\n",
    "df_group_days"
   ]
  },
  {
   "cell_type": "markdown",
   "id": "5284c977",
   "metadata": {},
   "source": [
    "#### 合并销售额和天数"
   ]
  },
  {
   "cell_type": "code",
   "execution_count": 46,
   "id": "290cce00",
   "metadata": {},
   "outputs": [
    {
     "data": {
      "text/html": [
       "<div>\n",
       "<style scoped>\n",
       "    .dataframe tbody tr th:only-of-type {\n",
       "        vertical-align: middle;\n",
       "    }\n",
       "\n",
       "    .dataframe tbody tr th {\n",
       "        vertical-align: top;\n",
       "    }\n",
       "\n",
       "    .dataframe thead th {\n",
       "        text-align: right;\n",
       "    }\n",
       "</style>\n",
       "<table border=\"1\" class=\"dataframe\">\n",
       "  <thead>\n",
       "    <tr style=\"text-align: right;\">\n",
       "      <th></th>\n",
       "      <th>first_category</th>\n",
       "      <th>second_category</th>\n",
       "      <th>third_category</th>\n",
       "      <th>brand</th>\n",
       "      <th>price</th>\n",
       "      <th>counts</th>\n",
       "      <th>sales</th>\n",
       "      <th>days</th>\n",
       "    </tr>\n",
       "  </thead>\n",
       "  <tbody>\n",
       "    <tr>\n",
       "      <th>0</th>\n",
       "      <td>图书</td>\n",
       "      <td>时尚/美妆</td>\n",
       "      <td>服饰搭配</td>\n",
       "      <td>凤凰含章</td>\n",
       "      <td>30.3</td>\n",
       "      <td>1</td>\n",
       "      <td>30.3</td>\n",
       "      <td>1</td>\n",
       "    </tr>\n",
       "    <tr>\n",
       "      <th>1</th>\n",
       "      <td>图书</td>\n",
       "      <td>时尚/美妆</td>\n",
       "      <td>服饰搭配</td>\n",
       "      <td>联合读创</td>\n",
       "      <td>61.2</td>\n",
       "      <td>17</td>\n",
       "      <td>1040.4</td>\n",
       "      <td>17</td>\n",
       "    </tr>\n",
       "    <tr>\n",
       "      <th>2</th>\n",
       "      <td>宠物生活</td>\n",
       "      <td>猫狗出行</td>\n",
       "      <td>宠物配饰</td>\n",
       "      <td>派乐特</td>\n",
       "      <td>12.9</td>\n",
       "      <td>50</td>\n",
       "      <td>645.0</td>\n",
       "      <td>50</td>\n",
       "    </tr>\n",
       "    <tr>\n",
       "      <th>3</th>\n",
       "      <td>家居日用</td>\n",
       "      <td>婚庆节庆</td>\n",
       "      <td>其它婚庆节庆用品</td>\n",
       "      <td>拾点渔</td>\n",
       "      <td>12.8</td>\n",
       "      <td>21</td>\n",
       "      <td>268.8</td>\n",
       "      <td>20</td>\n",
       "    </tr>\n",
       "    <tr>\n",
       "      <th>4</th>\n",
       "      <td>家居日用</td>\n",
       "      <td>生活日用</td>\n",
       "      <td>缝纫/针织材料</td>\n",
       "      <td>阿麦思</td>\n",
       "      <td>9.9</td>\n",
       "      <td>26</td>\n",
       "      <td>257.4</td>\n",
       "      <td>26</td>\n",
       "    </tr>\n",
       "    <tr>\n",
       "      <th>...</th>\n",
       "      <td>...</td>\n",
       "      <td>...</td>\n",
       "      <td>...</td>\n",
       "      <td>...</td>\n",
       "      <td>...</td>\n",
       "      <td>...</td>\n",
       "      <td>...</td>\n",
       "      <td>...</td>\n",
       "    </tr>\n",
       "    <tr>\n",
       "      <th>856</th>\n",
       "      <td>运动户外</td>\n",
       "      <td>运动服饰</td>\n",
       "      <td>运动配饰</td>\n",
       "      <td>迪卡侬（DECATHLON）</td>\n",
       "      <td>19.9</td>\n",
       "      <td>72</td>\n",
       "      <td>1432.8</td>\n",
       "      <td>0</td>\n",
       "    </tr>\n",
       "    <tr>\n",
       "      <th>857</th>\n",
       "      <td>运动户外</td>\n",
       "      <td>运动服饰</td>\n",
       "      <td>运动配饰</td>\n",
       "      <td>迪卡侬（DECATHLON）</td>\n",
       "      <td>24.9</td>\n",
       "      <td>50</td>\n",
       "      <td>1245.0</td>\n",
       "      <td>0</td>\n",
       "    </tr>\n",
       "    <tr>\n",
       "      <th>858</th>\n",
       "      <td>运动户外</td>\n",
       "      <td>运动服饰</td>\n",
       "      <td>运动配饰</td>\n",
       "      <td>里海狼（CASPIAN WOLF）</td>\n",
       "      <td>19.9</td>\n",
       "      <td>50</td>\n",
       "      <td>995.0</td>\n",
       "      <td>50</td>\n",
       "    </tr>\n",
       "    <tr>\n",
       "      <th>859</th>\n",
       "      <td>运动户外</td>\n",
       "      <td>运动服饰</td>\n",
       "      <td>运动配饰</td>\n",
       "      <td>阿迪达斯 （adidas）</td>\n",
       "      <td>89.0</td>\n",
       "      <td>50</td>\n",
       "      <td>4450.0</td>\n",
       "      <td>1</td>\n",
       "    </tr>\n",
       "    <tr>\n",
       "      <th>860</th>\n",
       "      <td>运动户外</td>\n",
       "      <td>运动鞋包</td>\n",
       "      <td>运动休闲鞋</td>\n",
       "      <td>ADIDAS</td>\n",
       "      <td>389.0</td>\n",
       "      <td>50</td>\n",
       "      <td>19450.0</td>\n",
       "      <td>50</td>\n",
       "    </tr>\n",
       "  </tbody>\n",
       "</table>\n",
       "<p>861 rows × 8 columns</p>\n",
       "</div>"
      ],
      "text/plain": [
       "    first_category second_category third_category              brand  price  \\\n",
       "0               图书           时尚/美妆           服饰搭配               凤凰含章   30.3   \n",
       "1               图书           时尚/美妆           服饰搭配               联合读创   61.2   \n",
       "2             宠物生活            猫狗出行           宠物配饰                派乐特   12.9   \n",
       "3             家居日用            婚庆节庆       其它婚庆节庆用品                拾点渔   12.8   \n",
       "4             家居日用            生活日用        缝纫/针织材料                阿麦思    9.9   \n",
       "..             ...             ...            ...                ...    ...   \n",
       "856           运动户外            运动服饰           运动配饰     迪卡侬（DECATHLON）   19.9   \n",
       "857           运动户外            运动服饰           运动配饰     迪卡侬（DECATHLON）   24.9   \n",
       "858           运动户外            运动服饰           运动配饰  里海狼（CASPIAN WOLF）   19.9   \n",
       "859           运动户外            运动服饰           运动配饰      阿迪达斯 （adidas）   89.0   \n",
       "860           运动户外            运动鞋包          运动休闲鞋             ADIDAS  389.0   \n",
       "\n",
       "     counts    sales  days  \n",
       "0         1     30.3     1  \n",
       "1        17   1040.4    17  \n",
       "2        50    645.0    50  \n",
       "3        21    268.8    20  \n",
       "4        26    257.4    26  \n",
       "..      ...      ...   ...  \n",
       "856      72   1432.8     0  \n",
       "857      50   1245.0     0  \n",
       "858      50    995.0    50  \n",
       "859      50   4450.0     1  \n",
       "860      50  19450.0    50  \n",
       "\n",
       "[861 rows x 8 columns]"
      ]
     },
     "execution_count": 46,
     "metadata": {},
     "output_type": "execute_result"
    }
   ],
   "source": [
    "df = pd.merge(df_group_sales,df_group_days, how = \"inner\",on = [\"first_category\",\"second_category\",\"third_category\",\"brand\",\"price\"])\n",
    "df"
   ]
  },
  {
   "cell_type": "code",
   "execution_count": 47,
   "id": "eec72897",
   "metadata": {},
   "outputs": [],
   "source": [
    "df.to_csv(\"销售详情表.csv\",encoding=\"utf_8_sig\")"
   ]
  },
  {
   "cell_type": "code",
   "execution_count": null,
   "id": "252d21d1-e182-4c04-815d-15f818769be0",
   "metadata": {},
   "outputs": [],
   "source": []
  }
 ],
 "metadata": {
  "kernelspec": {
   "display_name": "Python 3 (ipykernel)",
   "language": "python",
   "name": "python3"
  },
  "language_info": {
   "codemirror_mode": {
    "name": "ipython",
    "version": 3
   },
   "file_extension": ".py",
   "mimetype": "text/x-python",
   "name": "python",
   "nbconvert_exporter": "python",
   "pygments_lexer": "ipython3",
   "version": "3.9.12"
  },
  "toc": {
   "base_numbering": 1,
   "nav_menu": {
    "height": "26px",
    "width": "160px"
   },
   "number_sections": true,
   "sideBar": true,
   "skip_h1_title": false,
   "title_cell": "Table of Contents",
   "title_sidebar": "Contents",
   "toc_cell": false,
   "toc_position": {},
   "toc_section_display": true,
   "toc_window_display": false
  },
  "varInspector": {
   "cols": {
    "lenName": 16,
    "lenType": 16,
    "lenVar": 40
   },
   "kernels_config": {
    "python": {
     "delete_cmd_postfix": "",
     "delete_cmd_prefix": "del ",
     "library": "var_list.py",
     "varRefreshCmd": "print(var_dic_list())"
    },
    "r": {
     "delete_cmd_postfix": ") ",
     "delete_cmd_prefix": "rm(",
     "library": "var_list.r",
     "varRefreshCmd": "cat(var_dic_list()) "
    }
   },
   "position": {
    "height": "209.85px",
    "left": "1102.8px",
    "right": "20px",
    "top": "120px",
    "width": "350px"
   },
   "types_to_exclude": [
    "module",
    "function",
    "builtin_function_or_method",
    "instance",
    "_Feature"
   ],
   "window_display": false
  }
 },
 "nbformat": 4,
 "nbformat_minor": 5
}
